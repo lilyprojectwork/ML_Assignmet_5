{
 "cells": [
  {
   "cell_type": "code",
   "execution_count": 33,
   "metadata": {},
   "outputs": [
    {
     "name": "stdout",
     "output_type": "stream",
     "text": [
      "   total_bill   tip     sex smoker  day    time  size\n",
      "0       16.99  1.01  Female     No  Sun  Dinner     2\n",
      "1       10.34  1.66    Male     No  Sun  Dinner     3\n",
      "2       21.01  3.50    Male     No  Sun  Dinner     3\n",
      "3       23.68  3.31    Male     No  Sun  Dinner     2\n",
      "4       24.59  3.61  Female     No  Sun  Dinner     4\n"
     ]
    }
   ],
   "source": [
    "import pandas as pd\n",
    "import matplotlib as mpl \n",
    "import matplotlib.pyplot as plt\n",
    "import seaborn as sns\n",
    "import warnings\n",
    "import numpy as np \n",
    "tips = sns.load_dataset('tips')\n",
    "df = tips\n",
    "print(df.head())"
   ]
  },
  {
   "cell_type": "code",
   "execution_count": 34,
   "metadata": {},
   "outputs": [
    {
     "name": "stdout",
     "output_type": "stream",
     "text": [
      "     total_bill   tip  sex smoker   day    time  size\n",
      "0         16.99  1.01    1     No   Sun  Dinner     2\n",
      "1         10.34  1.66    0     No   Sun  Dinner     3\n",
      "2         21.01  3.50    0     No   Sun  Dinner     3\n",
      "3         23.68  3.31    0     No   Sun  Dinner     2\n",
      "4         24.59  3.61    1     No   Sun  Dinner     4\n",
      "..          ...   ...  ...    ...   ...     ...   ...\n",
      "239       29.03  5.92    0     No   Sat  Dinner     3\n",
      "240       27.18  2.00    1    Yes   Sat  Dinner     2\n",
      "241       22.67  2.00    0    Yes   Sat  Dinner     2\n",
      "242       17.82  1.75    0     No   Sat  Dinner     2\n",
      "243       18.78  3.00    1     No  Thur  Dinner     2\n",
      "\n",
      "[244 rows x 7 columns]\n"
     ]
    }
   ],
   "source": [
    " #I'll convert the sex to numbers\n",
    "df['sex'].replace(['Male','Female'],[0,1],inplace=True)\n",
    "print(df)"
   ]
  },
  {
   "cell_type": "code",
   "execution_count": 35,
   "metadata": {},
   "outputs": [
    {
     "data": {
      "text/html": [
       "<div>\n",
       "<style scoped>\n",
       "    .dataframe tbody tr th:only-of-type {\n",
       "        vertical-align: middle;\n",
       "    }\n",
       "\n",
       "    .dataframe tbody tr th {\n",
       "        vertical-align: top;\n",
       "    }\n",
       "\n",
       "    .dataframe thead th {\n",
       "        text-align: right;\n",
       "    }\n",
       "</style>\n",
       "<table border=\"1\" class=\"dataframe\">\n",
       "  <thead>\n",
       "    <tr style=\"text-align: right;\">\n",
       "      <th></th>\n",
       "      <th>total_bill</th>\n",
       "      <th>sex</th>\n",
       "      <th>tip</th>\n",
       "      <th>smoker</th>\n",
       "      <th>size</th>\n",
       "    </tr>\n",
       "  </thead>\n",
       "  <tbody>\n",
       "    <tr>\n",
       "      <th>0</th>\n",
       "      <td>16.99</td>\n",
       "      <td>1</td>\n",
       "      <td>1.01</td>\n",
       "      <td>No</td>\n",
       "      <td>2</td>\n",
       "    </tr>\n",
       "    <tr>\n",
       "      <th>1</th>\n",
       "      <td>10.34</td>\n",
       "      <td>0</td>\n",
       "      <td>1.66</td>\n",
       "      <td>No</td>\n",
       "      <td>3</td>\n",
       "    </tr>\n",
       "    <tr>\n",
       "      <th>2</th>\n",
       "      <td>21.01</td>\n",
       "      <td>0</td>\n",
       "      <td>3.50</td>\n",
       "      <td>No</td>\n",
       "      <td>3</td>\n",
       "    </tr>\n",
       "    <tr>\n",
       "      <th>3</th>\n",
       "      <td>23.68</td>\n",
       "      <td>0</td>\n",
       "      <td>3.31</td>\n",
       "      <td>No</td>\n",
       "      <td>2</td>\n",
       "    </tr>\n",
       "    <tr>\n",
       "      <th>4</th>\n",
       "      <td>24.59</td>\n",
       "      <td>1</td>\n",
       "      <td>3.61</td>\n",
       "      <td>No</td>\n",
       "      <td>4</td>\n",
       "    </tr>\n",
       "    <tr>\n",
       "      <th>...</th>\n",
       "      <td>...</td>\n",
       "      <td>...</td>\n",
       "      <td>...</td>\n",
       "      <td>...</td>\n",
       "      <td>...</td>\n",
       "    </tr>\n",
       "    <tr>\n",
       "      <th>239</th>\n",
       "      <td>29.03</td>\n",
       "      <td>0</td>\n",
       "      <td>5.92</td>\n",
       "      <td>No</td>\n",
       "      <td>3</td>\n",
       "    </tr>\n",
       "    <tr>\n",
       "      <th>240</th>\n",
       "      <td>27.18</td>\n",
       "      <td>1</td>\n",
       "      <td>2.00</td>\n",
       "      <td>Yes</td>\n",
       "      <td>2</td>\n",
       "    </tr>\n",
       "    <tr>\n",
       "      <th>241</th>\n",
       "      <td>22.67</td>\n",
       "      <td>0</td>\n",
       "      <td>2.00</td>\n",
       "      <td>Yes</td>\n",
       "      <td>2</td>\n",
       "    </tr>\n",
       "    <tr>\n",
       "      <th>242</th>\n",
       "      <td>17.82</td>\n",
       "      <td>0</td>\n",
       "      <td>1.75</td>\n",
       "      <td>No</td>\n",
       "      <td>2</td>\n",
       "    </tr>\n",
       "    <tr>\n",
       "      <th>243</th>\n",
       "      <td>18.78</td>\n",
       "      <td>1</td>\n",
       "      <td>3.00</td>\n",
       "      <td>No</td>\n",
       "      <td>2</td>\n",
       "    </tr>\n",
       "  </tbody>\n",
       "</table>\n",
       "<p>244 rows × 5 columns</p>\n",
       "</div>"
      ],
      "text/plain": [
       "     total_bill  sex   tip smoker  size\n",
       "0         16.99    1  1.01     No     2\n",
       "1         10.34    0  1.66     No     3\n",
       "2         21.01    0  3.50     No     3\n",
       "3         23.68    0  3.31     No     2\n",
       "4         24.59    1  3.61     No     4\n",
       "..          ...  ...   ...    ...   ...\n",
       "239       29.03    0  5.92     No     3\n",
       "240       27.18    1  2.00    Yes     2\n",
       "241       22.67    0  2.00    Yes     2\n",
       "242       17.82    0  1.75     No     2\n",
       "243       18.78    1  3.00     No     2\n",
       "\n",
       "[244 rows x 5 columns]"
      ]
     },
     "execution_count": 35,
     "metadata": {},
     "output_type": "execute_result"
    }
   ],
   "source": [
    "df = df[['total_bill','sex','tip','smoker','size',]]\n",
    "df"
   ]
  },
  {
   "cell_type": "code",
   "execution_count": 36,
   "metadata": {},
   "outputs": [],
   "source": [
    "# now I'll drop missing values (note that I'm doing this after going to my smaller collection of variables, \n",
    "#since there's no point in dropping values from variables I'm not going to use anyway)\n",
    "df = df.dropna()"
   ]
  },
  {
   "cell_type": "code",
   "execution_count": 37,
   "metadata": {},
   "outputs": [
    {
     "data": {
      "text/html": [
       "<div>\n",
       "<style scoped>\n",
       "    .dataframe tbody tr th:only-of-type {\n",
       "        vertical-align: middle;\n",
       "    }\n",
       "\n",
       "    .dataframe tbody tr th {\n",
       "        vertical-align: top;\n",
       "    }\n",
       "\n",
       "    .dataframe thead th {\n",
       "        text-align: right;\n",
       "    }\n",
       "</style>\n",
       "<table border=\"1\" class=\"dataframe\">\n",
       "  <thead>\n",
       "    <tr style=\"text-align: right;\">\n",
       "      <th></th>\n",
       "      <th>total_bill</th>\n",
       "      <th>sex</th>\n",
       "      <th>tip</th>\n",
       "      <th>smoker</th>\n",
       "      <th>size</th>\n",
       "    </tr>\n",
       "  </thead>\n",
       "  <tbody>\n",
       "    <tr>\n",
       "      <th>0</th>\n",
       "      <td>16.99</td>\n",
       "      <td>1</td>\n",
       "      <td>1.01</td>\n",
       "      <td>No</td>\n",
       "      <td>2</td>\n",
       "    </tr>\n",
       "    <tr>\n",
       "      <th>1</th>\n",
       "      <td>10.34</td>\n",
       "      <td>0</td>\n",
       "      <td>1.66</td>\n",
       "      <td>No</td>\n",
       "      <td>3</td>\n",
       "    </tr>\n",
       "    <tr>\n",
       "      <th>2</th>\n",
       "      <td>21.01</td>\n",
       "      <td>0</td>\n",
       "      <td>3.50</td>\n",
       "      <td>No</td>\n",
       "      <td>3</td>\n",
       "    </tr>\n",
       "    <tr>\n",
       "      <th>3</th>\n",
       "      <td>23.68</td>\n",
       "      <td>0</td>\n",
       "      <td>3.31</td>\n",
       "      <td>No</td>\n",
       "      <td>2</td>\n",
       "    </tr>\n",
       "    <tr>\n",
       "      <th>4</th>\n",
       "      <td>24.59</td>\n",
       "      <td>1</td>\n",
       "      <td>3.61</td>\n",
       "      <td>No</td>\n",
       "      <td>4</td>\n",
       "    </tr>\n",
       "    <tr>\n",
       "      <th>...</th>\n",
       "      <td>...</td>\n",
       "      <td>...</td>\n",
       "      <td>...</td>\n",
       "      <td>...</td>\n",
       "      <td>...</td>\n",
       "    </tr>\n",
       "    <tr>\n",
       "      <th>239</th>\n",
       "      <td>29.03</td>\n",
       "      <td>0</td>\n",
       "      <td>5.92</td>\n",
       "      <td>No</td>\n",
       "      <td>3</td>\n",
       "    </tr>\n",
       "    <tr>\n",
       "      <th>240</th>\n",
       "      <td>27.18</td>\n",
       "      <td>1</td>\n",
       "      <td>2.00</td>\n",
       "      <td>Yes</td>\n",
       "      <td>2</td>\n",
       "    </tr>\n",
       "    <tr>\n",
       "      <th>241</th>\n",
       "      <td>22.67</td>\n",
       "      <td>0</td>\n",
       "      <td>2.00</td>\n",
       "      <td>Yes</td>\n",
       "      <td>2</td>\n",
       "    </tr>\n",
       "    <tr>\n",
       "      <th>242</th>\n",
       "      <td>17.82</td>\n",
       "      <td>0</td>\n",
       "      <td>1.75</td>\n",
       "      <td>No</td>\n",
       "      <td>2</td>\n",
       "    </tr>\n",
       "    <tr>\n",
       "      <th>243</th>\n",
       "      <td>18.78</td>\n",
       "      <td>1</td>\n",
       "      <td>3.00</td>\n",
       "      <td>No</td>\n",
       "      <td>2</td>\n",
       "    </tr>\n",
       "  </tbody>\n",
       "</table>\n",
       "<p>244 rows × 5 columns</p>\n",
       "</div>"
      ],
      "text/plain": [
       "     total_bill  sex   tip smoker  size\n",
       "0         16.99    1  1.01     No     2\n",
       "1         10.34    0  1.66     No     3\n",
       "2         21.01    0  3.50     No     3\n",
       "3         23.68    0  3.31     No     2\n",
       "4         24.59    1  3.61     No     4\n",
       "..          ...  ...   ...    ...   ...\n",
       "239       29.03    0  5.92     No     3\n",
       "240       27.18    1  2.00    Yes     2\n",
       "241       22.67    0  2.00    Yes     2\n",
       "242       17.82    0  1.75     No     2\n",
       "243       18.78    1  3.00     No     2\n",
       "\n",
       "[244 rows x 5 columns]"
      ]
     },
     "execution_count": 37,
     "metadata": {},
     "output_type": "execute_result"
    }
   ],
   "source": [
    "# vectorize the categorical variables (as a new dataframe, I want to keep the original one)\n",
    "df_vect = pd.get_dummies(df)\n",
    "df"
   ]
  },
  {
   "cell_type": "code",
   "execution_count": 38,
   "metadata": {},
   "outputs": [
    {
     "name": "stdout",
     "output_type": "stream",
     "text": [
      "sex           1.000000\n",
      "total_bill    0.144877\n",
      "tip           0.088862\n",
      "size          0.086195\n",
      "smoker_Yes    0.002816\n",
      "smoker_No     0.002816\n",
      "Name: sex, dtype: float64\n"
     ]
    }
   ],
   "source": [
    "# compute a matrix of correlations between all the columns (including the target)\n",
    "cormat = df_vect.corr()\n",
    "# extract from this matrix the (absolute value of) the correlation between each feature and the target (`sex')\n",
    "print(np.abs(cormat['sex']).sort_values(ascending=False))\n"
   ]
  },
  {
   "cell_type": "code",
   "execution_count": 47,
   "metadata": {},
   "outputs": [
    {
     "name": "stdout",
     "output_type": "stream",
     "text": [
      "     total_bill   tip  size  smoker_Yes  smoker_No\n",
      "236       12.60  1.00     2           1          0\n",
      "169       10.63  2.00     2           1          0\n",
      "78        22.76  3.00     2           0          1\n",
      "47        32.40  6.00     4           0          1\n",
      "194       16.58  4.00     2           1          0\n",
      "..          ...   ...   ...         ...        ...\n",
      "137       14.15  2.00     2           0          1\n",
      "72        26.86  3.14     2           1          0\n",
      "140       17.47  3.50     2           0          1\n",
      "235       10.07  1.25     2           0          1\n",
      "37        16.93  3.07     3           0          1\n",
      "\n",
      "[183 rows x 5 columns]\n",
      "236    0\n",
      "169    1\n",
      "78     0\n",
      "47     0\n",
      "194    0\n",
      "      ..\n",
      "137    1\n",
      "72     1\n",
      "140    1\n",
      "235    0\n",
      "37     1\n",
      "Name: sex, Length: 183, dtype: int64\n"
     ]
    }
   ],
   "source": [
    "# now I'll create the usual feature matrix and target variable (here I chose 'sex' as the target variable) \n",
    "# NOTE: random forest should be able to handle categorical variables, but the sklearn developers haven't incorporated this and have resisted doing so for years, for some reason, so let's just use our vectorized data\n",
    "X = df_vect.drop('sex', axis=1)\n",
    "y = df_vect['sex']\n",
    "# split the data into train and test\n",
    "from sklearn.model_selection import train_test_split\n",
    "X_train, X_test, y_train, y_test = train_test_split(X, y, test_size=0.25, random_state=1)\n",
    "print(X_train)\n",
    "print(y_train)\n"
   ]
  },
  {
   "cell_type": "code",
   "execution_count": 48,
   "metadata": {},
   "outputs": [
    {
     "name": "stdout",
     "output_type": "stream",
     "text": [
      "0.6065573770491803\n"
     ]
    }
   ],
   "source": [
    "# fit a random forest model\n",
    "from sklearn.ensemble import RandomForestClassifier\n",
    "model = RandomForestClassifier(n_estimators=100, random_state=0)\n",
    "model.fit(X_train,y_train)\n",
    "# I'll compute the accuracy, just to get a sense of how it's doing\n",
    "from sklearn.metrics import accuracy_score\n",
    "y_model = model.predict(X_test)\n",
    "print(accuracy_score(y_test, y_model))"
   ]
  },
  {
   "cell_type": "code",
   "execution_count": 49,
   "metadata": {},
   "outputs": [
    {
     "name": "stdout",
     "output_type": "stream",
     "text": [
      "Index(['total_bill', 'tip', 'size', 'smoker_Yes', 'smoker_No'], dtype='object')\n",
      "[0.49871931 0.38004791 0.08465562 0.01710685 0.0194703 ]\n"
     ]
    }
   ],
   "source": [
    "# now let's look at the built-in feature importances for our random forest (first I'll print the column names to remember what they are)\n",
    "print(X.columns)\n",
    "print(model.feature_importances_)"
   ]
  },
  {
   "cell_type": "code",
   "execution_count": 50,
   "metadata": {},
   "outputs": [
    {
     "name": "stdout",
     "output_type": "stream",
     "text": [
      "Feature: 0, Score: 0.49872\n",
      "Feature: 1, Score: 0.38005\n",
      "Feature: 2, Score: 0.08466\n",
      "Feature: 3, Score: 0.01711\n",
      "Feature: 4, Score: 0.01947\n"
     ]
    },
    {
     "data": {
      "image/png": "[encoded data removed]",
      "text/plain": [
       "<Figure size 432x288 with 1 Axes>"
      ]
     },
     "metadata": {
      "needs_background": "light"
     },
     "output_type": "display_data"
    }
   ],
   "source": [
    "# get importance\n",
    "importance = model.feature_importances_\n",
    "# summarize feature importance\n",
    "for i,v in enumerate(importance):\n",
    "\tprint('Feature: %0d, Score: %.5f' % (i,v))\n",
    "# plot feature importance\n",
    "from matplotlib import pyplot\n",
    "pyplot.bar([x for x in range(len(importance))], importance)\n",
    "pyplot.show()"
   ]
  },
  {
   "cell_type": "code",
   "execution_count": 51,
   "metadata": {},
   "outputs": [
    {
     "name": "stdout",
     "output_type": "stream",
     "text": [
      "[0.03934426 0.04590164 0.00491803 0.03114754 0.06065574]\n"
     ]
    }
   ],
   "source": [
    "# next we compute the permutation feature importance\n",
    "from sklearn.inspection import permutation_importance \n",
    "permimp = permutation_importance(model, X_test, y_test, n_repeats=10)\n",
    "print(permimp.importances_mean)"
   ]
  },
  {
   "cell_type": "code",
   "execution_count": 52,
   "metadata": {},
   "outputs": [
    {
     "name": "stdout",
     "output_type": "stream",
     "text": [
      "[[30  7]\n",
      " [17  7]]\n"
     ]
    }
   ],
   "source": [
    "# now make the confusion matrix\n",
    "from sklearn.metrics import confusion_matrix\n",
    "print(confusion_matrix(y_test, y_model))\n"
   ]
  },
  {
   "cell_type": "code",
   "execution_count": 53,
   "metadata": {},
   "outputs": [
    {
     "name": "stdout",
     "output_type": "stream",
     "text": [
      "              precision    recall  f1-score   support\n",
      "\n",
      "           0       0.64      0.81      0.71        37\n",
      "           1       0.50      0.29      0.37        24\n",
      "\n",
      "    accuracy                           0.61        61\n",
      "   macro avg       0.57      0.55      0.54        61\n",
      "weighted avg       0.58      0.61      0.58        61\n",
      "\n"
     ]
    }
   ],
   "source": [
    "# get a full classification report\n",
    "from sklearn.metrics import classification_report\n",
    "print(classification_report(y_test, y_model))"
   ]
  },
  {
   "cell_type": "code",
   "execution_count": 54,
   "metadata": {},
   "outputs": [
    {
     "data": {
      "image/png": "[encoded data removed]",
      "text/plain": [
       "<Figure size 432x288 with 1 Axes>"
      ]
     },
     "metadata": {
      "needs_background": "light"
     },
     "output_type": "display_data"
    }
   ],
   "source": [
    "# now do the ROC curve plot\n",
    "import sklearn.metrics as metrics\n",
    "probs = model.predict_proba(X_test)\n",
    "preds = probs[:,1]\n",
    "fpr, tpr, threshold = metrics.roc_curve(y_test, preds)\n",
    "roc_auc = metrics.auc(fpr, tpr)\n",
    "plt.title('Receiver Operating Characteristic')\n",
    "plt.plot(fpr, tpr, 'b', label = 'AUC = %0.2f' % roc_auc)\n",
    "plt.legend(loc = 'lower right')\n",
    "plt.plot([0, 1], [0, 1],'r--')\n",
    "plt.xlim([0, 1])\n",
    "plt.ylim([0, 1])\n",
    "plt.ylabel('True Positive Rate')\n",
    "plt.xlabel('False Positive Rate')\n",
    "plt.show()\n"
   ]
  },
  {
   "cell_type": "code",
   "execution_count": null,
   "metadata": {},
   "outputs": [],
   "source": []
  }
 ],
 "metadata": {
  "kernelspec": {
   "display_name": "Python 3",
   "language": "python",
   "name": "python3"
  },
  "language_info": {
   "codemirror_mode": {
    "name": "ipython",
    "version": 3
   },
   "file_extension": ".py",
   "mimetype": "text/x-python",
   "name": "python",
   "nbconvert_exporter": "python",
   "pygments_lexer": "ipython3",
   "version": "3.8.3"
  }
 },
 "nbformat": 4,
 "nbformat_minor": 4
}
